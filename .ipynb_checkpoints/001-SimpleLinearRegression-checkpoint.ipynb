{
 "cells": [
  {
   "cell_type": "markdown",
   "metadata": {},
   "source": [
    "# Introduction:\n",
    "\n",
    "In this notebook, we are going to fit a linear regression model. It is going to take a few steps. In order to achieve that we are going to use the `scikit-learn` library.\n",
    "\n",
    "At first, we need a dataset. Our dataset is `x03.txt`, provided [here](https://people.sc.fsu.edu/~jburkardt/datasets/regression/regression.html) (access at May 15th, 2020). Our dataset relates age and blood pressure.\n",
    "\n",
    "Well, before actually fitting our linear regression model, we need to read the dataset properly (once it is not exactly readable by a computer), and we are going to use `pandas` to \"store\" it.\n",
    "\n",
    "Our journey is going to be divided into the following steps:\n",
    "\n",
    "* Step 1: Reading the dataset\n",
    "* Step 2: Treating the data\n",
    "* Step 3: Fitting the model\n",
    "* Step 4: Predicting"
   ]
  },
  {
   "cell_type": "code",
   "execution_count": 1,
   "metadata": {},
   "outputs": [],
   "source": [
    "# We need to import a few libs and modules that are going to be useful in our project.\n",
    "\n",
    "import requests\n",
    "import numpy as np\n",
    "import matplotlib.pyplot as plt\n",
    "import pandas as pd\n",
    "from scipy import stats\n",
    "from sklearn.linear_model import LinearRegression"
   ]
  },
  {
   "cell_type": "markdown",
   "metadata": {},
   "source": [
    "# Step 1: Reading the dataset\n",
    "\n",
    "With the help of `requests` we are going to download the dataset and \"clean\" it until it is ready to use."
   ]
  },
  {
   "cell_type": "code",
   "execution_count": 2,
   "metadata": {},
   "outputs": [
    {
     "name": "stdout",
     "output_type": "stream",
     "text": [
      "#  x03.txt\n",
      "#\n",
      "#  Reference:\n",
      "#\n",
      "#    Helmut Spaeth,\n",
      "#    Mathematical Algorithms for Linear Regression,\n",
      "#    Academic Press, 1991, page 304,\n",
      "#    ISBN 0-12-656460-4.\n",
      "#\n",
      "#    D G Kleinbaum and L L Kupper,\n",
      "#    Applied Regression Analysis and Other Multivariable Methods,\n",
      "#    Duxbury Press, 1978, page 47.\n",
      "#\n",
      "#  Discussion:\n",
      "#\n",
      "#    The systolic blood pressure was measured for 30 people of\n",
      "#    different ages.  A nonzero intercept seems appropriate\n",
      "#    here, since even a very young person can have a high blood pressure.\n",
      "#\n",
      "#    There are 30 rows of data.  The data columns include:\n",
      "#\n",
      "#      I,  the index;\n",
      "#      A0, 1,\n",
      "#      A1, the age;\n",
      "#      B,  the systolic blood pressure.\n",
      "#\n",
      "#    We seek a model of the form:\n",
      "#\n",
      "#      B = A0 * X0 + A1 * X1\n",
      "#\n",
      "4 columns\n",
      "30 rows\n",
      "Index\n",
      "One\n",
      "Age\n",
      "Systolic Blood Pressure\n",
      " 1  1  39  144\n",
      " 2  1  47  220\n",
      " 3  1  45  138\n",
      " 4  1  47  145\n",
      " 5  1  65  162\n",
      " 6  1  46  142\n",
      " 7  1  67  170\n",
      " 8  1  42  124\n",
      " 9  1  67  158\n",
      "10  1  56  154\n",
      "11  1  64  162\n",
      "12  1  56  150\n",
      "13  1  59  140\n",
      "14  1  34  110\n",
      "15  1  42  128\n",
      "16  1  48  130\n",
      "17  1  45  135\n",
      "18  1  17  114\n",
      "19  1  20  116\n",
      "20  1  19  124\n",
      "21  1  36  136\n",
      "22  1  50  142\n",
      "23  1  39  120\n",
      "24  1  21  120\n",
      "25  1  44  160\n",
      "26  1  53  158\n",
      "27  1  63  144\n",
      "28  1  29  130\n",
      "29  1  25  125\n",
      "30  1  69  175\n",
      "\n"
     ]
    }
   ],
   "source": [
    "dataset_url = \"https://people.sc.fsu.edu/~jburkardt/datasets/regression/x03.txt\"\n",
    "\n",
    "response = requests.get(dataset_url)\n",
    "dataset_txt = response.text\n",
    "\n",
    "print(dataset_txt)"
   ]
  },
  {
   "cell_type": "markdown",
   "metadata": {},
   "source": [
    "Notice that the text file has a lot of informations that are not essential for our purpose. By looking at it we can notice the first thing we can filter, the \"commentaries\", the text that follows the `#`."
   ]
  },
  {
   "cell_type": "code",
   "execution_count": 3,
   "metadata": {},
   "outputs": [
    {
     "name": "stdout",
     "output_type": "stream",
     "text": [
      "['4 columns', '30 rows', 'Index', 'One', 'Age', 'Systolic Blood Pressure', ' 1  1  39  144', ' 2  1  47  220', ' 3  1  45  138', ' 4  1  47  145', ' 5  1  65  162', ' 6  1  46  142', ' 7  1  67  170', ' 8  1  42  124', ' 9  1  67  158', '10  1  56  154', '11  1  64  162', '12  1  56  150', '13  1  59  140', '14  1  34  110', '15  1  42  128', '16  1  48  130', '17  1  45  135', '18  1  17  114', '19  1  20  116', '20  1  19  124', '21  1  36  136', '22  1  50  142', '23  1  39  120', '24  1  21  120', '25  1  44  160', '26  1  53  158', '27  1  63  144', '28  1  29  130', '29  1  25  125', '30  1  69  175']\n"
     ]
    }
   ],
   "source": [
    "# Defining a function to remove the lines containing commentaries, it is very rustic, it removes the whole line.\n",
    "\n",
    "def remove_commentary_lines(file_txt):\n",
    "    \n",
    "    raw_file_lines = file_txt.strip().split('\\n')\n",
    "    filtered_file_lines = []\n",
    "    \n",
    "    for file_line in raw_file_lines:\n",
    "        \n",
    "        if file_line[0] != '#':\n",
    "            filtered_file_lines.append(file_line)\n",
    "            \n",
    "        # The line will pass the filter if its first character isn't '#'.\n",
    "            \n",
    "    return filtered_file_lines\n",
    "\n",
    "filtered_file_lines = remove_commentary_lines(dataset_txt)\n",
    "\n",
    "print(filtered_file_lines)"
   ]
  },
  {
   "cell_type": "markdown",
   "metadata": {},
   "source": [
    "Nice, notice that now we have a list containing the lines of our `.txt` without the ones that consist of commentaries. Now we need to convert it to a `pandas` dataframe."
   ]
  },
  {
   "cell_type": "code",
   "execution_count": 4,
   "metadata": {},
   "outputs": [
    {
     "data": {
      "text/html": [
       "<div>\n",
       "<style scoped>\n",
       "    .dataframe tbody tr th:only-of-type {\n",
       "        vertical-align: middle;\n",
       "    }\n",
       "\n",
       "    .dataframe tbody tr th {\n",
       "        vertical-align: top;\n",
       "    }\n",
       "\n",
       "    .dataframe thead th {\n",
       "        text-align: right;\n",
       "    }\n",
       "</style>\n",
       "<table border=\"1\" class=\"dataframe\">\n",
       "  <thead>\n",
       "    <tr style=\"text-align: right;\">\n",
       "      <th></th>\n",
       "      <th>One</th>\n",
       "      <th>Age</th>\n",
       "      <th>Systolic Blood Pressure</th>\n",
       "    </tr>\n",
       "  </thead>\n",
       "  <tbody>\n",
       "    <tr>\n",
       "      <th>1</th>\n",
       "      <td>1</td>\n",
       "      <td>39</td>\n",
       "      <td>144</td>\n",
       "    </tr>\n",
       "    <tr>\n",
       "      <th>2</th>\n",
       "      <td>1</td>\n",
       "      <td>47</td>\n",
       "      <td>220</td>\n",
       "    </tr>\n",
       "    <tr>\n",
       "      <th>3</th>\n",
       "      <td>1</td>\n",
       "      <td>45</td>\n",
       "      <td>138</td>\n",
       "    </tr>\n",
       "    <tr>\n",
       "      <th>4</th>\n",
       "      <td>1</td>\n",
       "      <td>47</td>\n",
       "      <td>145</td>\n",
       "    </tr>\n",
       "    <tr>\n",
       "      <th>5</th>\n",
       "      <td>1</td>\n",
       "      <td>65</td>\n",
       "      <td>162</td>\n",
       "    </tr>\n",
       "    <tr>\n",
       "      <th>6</th>\n",
       "      <td>1</td>\n",
       "      <td>46</td>\n",
       "      <td>142</td>\n",
       "    </tr>\n",
       "    <tr>\n",
       "      <th>7</th>\n",
       "      <td>1</td>\n",
       "      <td>67</td>\n",
       "      <td>170</td>\n",
       "    </tr>\n",
       "    <tr>\n",
       "      <th>8</th>\n",
       "      <td>1</td>\n",
       "      <td>42</td>\n",
       "      <td>124</td>\n",
       "    </tr>\n",
       "    <tr>\n",
       "      <th>9</th>\n",
       "      <td>1</td>\n",
       "      <td>67</td>\n",
       "      <td>158</td>\n",
       "    </tr>\n",
       "    <tr>\n",
       "      <th>10</th>\n",
       "      <td>1</td>\n",
       "      <td>56</td>\n",
       "      <td>154</td>\n",
       "    </tr>\n",
       "    <tr>\n",
       "      <th>11</th>\n",
       "      <td>1</td>\n",
       "      <td>64</td>\n",
       "      <td>162</td>\n",
       "    </tr>\n",
       "    <tr>\n",
       "      <th>12</th>\n",
       "      <td>1</td>\n",
       "      <td>56</td>\n",
       "      <td>150</td>\n",
       "    </tr>\n",
       "    <tr>\n",
       "      <th>13</th>\n",
       "      <td>1</td>\n",
       "      <td>59</td>\n",
       "      <td>140</td>\n",
       "    </tr>\n",
       "    <tr>\n",
       "      <th>14</th>\n",
       "      <td>1</td>\n",
       "      <td>34</td>\n",
       "      <td>110</td>\n",
       "    </tr>\n",
       "    <tr>\n",
       "      <th>15</th>\n",
       "      <td>1</td>\n",
       "      <td>42</td>\n",
       "      <td>128</td>\n",
       "    </tr>\n",
       "    <tr>\n",
       "      <th>16</th>\n",
       "      <td>1</td>\n",
       "      <td>48</td>\n",
       "      <td>130</td>\n",
       "    </tr>\n",
       "    <tr>\n",
       "      <th>17</th>\n",
       "      <td>1</td>\n",
       "      <td>45</td>\n",
       "      <td>135</td>\n",
       "    </tr>\n",
       "    <tr>\n",
       "      <th>18</th>\n",
       "      <td>1</td>\n",
       "      <td>17</td>\n",
       "      <td>114</td>\n",
       "    </tr>\n",
       "    <tr>\n",
       "      <th>19</th>\n",
       "      <td>1</td>\n",
       "      <td>20</td>\n",
       "      <td>116</td>\n",
       "    </tr>\n",
       "    <tr>\n",
       "      <th>20</th>\n",
       "      <td>1</td>\n",
       "      <td>19</td>\n",
       "      <td>124</td>\n",
       "    </tr>\n",
       "    <tr>\n",
       "      <th>21</th>\n",
       "      <td>1</td>\n",
       "      <td>36</td>\n",
       "      <td>136</td>\n",
       "    </tr>\n",
       "    <tr>\n",
       "      <th>22</th>\n",
       "      <td>1</td>\n",
       "      <td>50</td>\n",
       "      <td>142</td>\n",
       "    </tr>\n",
       "    <tr>\n",
       "      <th>23</th>\n",
       "      <td>1</td>\n",
       "      <td>39</td>\n",
       "      <td>120</td>\n",
       "    </tr>\n",
       "    <tr>\n",
       "      <th>24</th>\n",
       "      <td>1</td>\n",
       "      <td>21</td>\n",
       "      <td>120</td>\n",
       "    </tr>\n",
       "    <tr>\n",
       "      <th>25</th>\n",
       "      <td>1</td>\n",
       "      <td>44</td>\n",
       "      <td>160</td>\n",
       "    </tr>\n",
       "    <tr>\n",
       "      <th>26</th>\n",
       "      <td>1</td>\n",
       "      <td>53</td>\n",
       "      <td>158</td>\n",
       "    </tr>\n",
       "    <tr>\n",
       "      <th>27</th>\n",
       "      <td>1</td>\n",
       "      <td>63</td>\n",
       "      <td>144</td>\n",
       "    </tr>\n",
       "    <tr>\n",
       "      <th>28</th>\n",
       "      <td>1</td>\n",
       "      <td>29</td>\n",
       "      <td>130</td>\n",
       "    </tr>\n",
       "    <tr>\n",
       "      <th>29</th>\n",
       "      <td>1</td>\n",
       "      <td>25</td>\n",
       "      <td>125</td>\n",
       "    </tr>\n",
       "    <tr>\n",
       "      <th>30</th>\n",
       "      <td>1</td>\n",
       "      <td>69</td>\n",
       "      <td>175</td>\n",
       "    </tr>\n",
       "  </tbody>\n",
       "</table>\n",
       "</div>"
      ],
      "text/plain": [
       "    One  Age  Systolic Blood Pressure\n",
       "1     1   39                      144\n",
       "2     1   47                      220\n",
       "3     1   45                      138\n",
       "4     1   47                      145\n",
       "5     1   65                      162\n",
       "6     1   46                      142\n",
       "7     1   67                      170\n",
       "8     1   42                      124\n",
       "9     1   67                      158\n",
       "10    1   56                      154\n",
       "11    1   64                      162\n",
       "12    1   56                      150\n",
       "13    1   59                      140\n",
       "14    1   34                      110\n",
       "15    1   42                      128\n",
       "16    1   48                      130\n",
       "17    1   45                      135\n",
       "18    1   17                      114\n",
       "19    1   20                      116\n",
       "20    1   19                      124\n",
       "21    1   36                      136\n",
       "22    1   50                      142\n",
       "23    1   39                      120\n",
       "24    1   21                      120\n",
       "25    1   44                      160\n",
       "26    1   53                      158\n",
       "27    1   63                      144\n",
       "28    1   29                      130\n",
       "29    1   25                      125\n",
       "30    1   69                      175"
      ]
     },
     "metadata": {},
     "output_type": "display_data"
    }
   ],
   "source": [
    "def parse_to_dataframe(file_lines):\n",
    "    \n",
    "    # Defining a function to find out how many columns and rows the dataset contains.\n",
    "    def get_dataset_dimension(file_lines):\n",
    "        \n",
    "        columns_index = 0\n",
    "        rows_index = 1\n",
    "        \n",
    "        num_columns, _ = file_lines[columns_index].strip().split(\" \")\n",
    "        num_rows, _ = file_lines[rows_index].strip().split(\" \")\n",
    "        \n",
    "        return int(num_columns), int(num_rows)\n",
    "    \n",
    "    # Defining a function to return the categories.\n",
    "    def get_categories(file_lines, num_categories, first_category_line):\n",
    "        \n",
    "        return file_lines[first_category_line : first_category_line + num_categories]\n",
    "    \n",
    "    columns, rows = get_dataset_dimension(file_lines)\n",
    "    \n",
    "    categories = get_categories(file_lines, columns, 2)\n",
    "    # The number of categories is the same as the number of columns.\n",
    "    # The first category line index is 2, since the 0 and 1 indexes are occupied by the dataset dimensions.\n",
    "    \n",
    "    dataframe = { key : [] for key in categories }\n",
    "    \n",
    "    # Iterating through the data lines:\n",
    "    first_data_line = 2 + columns\n",
    "    last_data_line = first_data_line + rows\n",
    "    for i in range(first_data_line, last_data_line):\n",
    "        \n",
    "        data = file_lines[i].strip().split('  ') # Separating each value of the line\n",
    "        for j in range(len(data)):\n",
    "            dataframe[categories[j]].append(int(data[j])) # Appending each value to its corresponding key.\n",
    "        \n",
    "    df = pd.DataFrame(dataframe, index=dataframe[\"Index\"]) # Parsing the dataframe to pandas dataframe\n",
    "    return df[[c for c in categories if c != \"Index\"]] # Removing repeated category\n",
    "    \n",
    "df = parse_to_dataframe(filtered_file_lines)\n",
    "display(df)"
   ]
  },
  {
   "cell_type": "markdown",
   "metadata": {},
   "source": [
    "Ok, now we have our dataset in a nice format. It is easy to read and manipulate."
   ]
  },
  {
   "cell_type": "markdown",
   "metadata": {},
   "source": [
    "# Step 2: Treating the data\n",
    "\n",
    "This step is almost purely statistical, don't worry, I am going to explain each detail.\n",
    "\n",
    "First thing we need to do: define our __variable of interest__ and our __explanatory variable__.\n",
    "Our variable of interest is the variable that we are analyzing, the one we want to understand, that is of our _interest_.\n",
    "The explanatory variable is the one that _may_ dictate the variable of interest, the one that _may_ cause it (if those are somehow related).\n",
    "\n",
    "Our variable of interest here is \"__Systolic Blood Pressure__\" and our explanatory variable is \"__Age__\"."
   ]
  },
  {
   "cell_type": "code",
   "execution_count": 5,
   "metadata": {},
   "outputs": [],
   "source": [
    "int_var = \"Systolic Blood Pressure\"\n",
    "exp_var = \"Age\""
   ]
  },
  {
   "cell_type": "markdown",
   "metadata": {},
   "source": [
    "We have many ways of visualizing the relation of our variables. Let's try a more graphical approach at first."
   ]
  },
  {
   "cell_type": "code",
   "execution_count": 6,
   "metadata": {},
   "outputs": [
    {
     "data": {
      "image/png": "[encoded data removed]",
      "text/plain": [
       "<Figure size 432x288 with 1 Axes>"
      ]
     },
     "metadata": {
      "needs_background": "light"
     },
     "output_type": "display_data"
    }
   ],
   "source": [
    "# Plotting our data\n",
    "plt.xlabel(exp_var)\n",
    "plt.ylabel(int_var)\n",
    "plt.scatter(df[exp_var], df[int_var])\n",
    "plt.show()"
   ]
  },
  {
   "cell_type": "markdown",
   "metadata": {},
   "source": [
    "We can notice a certain relation, right? There is some logic in it, isn't? We can quantify this relation! It is called a __measure of association__, and the most common method is by checking the __Pearson's correlation coeffcient__, wich is represented by $\\rho$ (rho).\n",
    "\n",
    "Rho varies between -1 and 1, where 0 is the worst value. We want to achieve values next to 1 or -1, because that means we have a correlation. Let's check it for our data."
   ]
  },
  {
   "cell_type": "markdown",
   "metadata": {},
   "source": [
    "We can simply obtain our rho from the `stats.pearsonr` command. (More info [here](https://docs.scipy.org/doc/scipy-0.14.0/reference/generated/scipy.stats.pearsonr.html))"
   ]
  },
  {
   "cell_type": "code",
   "execution_count": 7,
   "metadata": {},
   "outputs": [
    {
     "name": "stdout",
     "output_type": "stream",
     "text": [
      "0.6575672831943475 7.867263066701025e-05\n"
     ]
    }
   ],
   "source": [
    "rho, p = stats.pearsonr(df[exp_var], df[int_var])\n",
    "\n",
    "print(rho, p)"
   ]
  },
  {
   "cell_type": "markdown",
   "metadata": {},
   "source": [
    "Notice that we have one more value besides rho, it is the __p-value__, it is used to measure the __significance__. It is not really important for us right now. But you can read a little more about it at the link provided above."
   ]
  },
  {
   "cell_type": "markdown",
   "metadata": {},
   "source": [
    "Well, our rho value is not that good, right? We can kind of see why. We have an __outlier__ that is influencing at it. Outliers are nothing more than values that are \"out of the curve\", we need to eliminate them in order to have a good linear regression. Let's create a function to remove the outliers. We have to keep in mind that to remove the outliers we must firstly identify them, in order to achieve that we need to know a little value called __Z-score__, the Z-score will allow us to find out how far from the __mean value__ each value is, in terms of __standard deviation__. To find the outliers we are going to set a threshold of $3.0$, that is, if the Z-score of a value is bigger than $3.0$ we are going to consider it an outlier. We can determine every Z-score of our variable of interest using `stats.zscore`."
   ]
  },
  {
   "cell_type": "code",
   "execution_count": 8,
   "metadata": {},
   "outputs": [],
   "source": [
    "unfiltered_df = df # Defining the DF as unfiltered\n",
    "zscores = stats.zscore(unfiltered_df[int_var]) # Getting the zscores\n",
    "filtered_df = unfiltered_df[zscores <= 3.0] # Filtering data by zscores"
   ]
  },
  {
   "cell_type": "markdown",
   "metadata": {},
   "source": [
    "We need to find a way to verify if the outliers are really gone, and one way to do it is by ___boxplotting___ our variable of interest. A boxplot, beside other things, show us if our variable of interest has outliers. The outliers are shown as tiny circles outside the box. Let's do it!"
   ]
  },
  {
   "cell_type": "code",
   "execution_count": 9,
   "metadata": {},
   "outputs": [
    {
     "data": {
      "image/png": "[encoded data removed]",
      "text/plain": [
       "<Figure size 432x288 with 1 Axes>"
      ]
     },
     "metadata": {
      "needs_background": "light"
     },
     "output_type": "display_data"
    },
    {
     "data": {
      "image/png": "[encoded data removed]",
      "text/plain": [
       "<Figure size 432x288 with 1 Axes>"
      ]
     },
     "metadata": {
      "needs_background": "light"
     },
     "output_type": "display_data"
    }
   ],
   "source": [
    "plt.boxplot(unfiltered_df[int_var])\n",
    "plt.title(\"Boxplot of the unfiltered variable of interest (Contains outliers)\")\n",
    "plt.show()\n",
    "\n",
    "plt.boxplot(filtered_df[int_var])\n",
    "plt.title(\"Boxplot of the filtered variable of interest (Does not contain outliers)\")\n",
    "plt.show()"
   ]
  },
  {
   "cell_type": "markdown",
   "metadata": {},
   "source": [
    "Since we don't have outliers anymore, let's see our new Pearson coefficient."
   ]
  },
  {
   "cell_type": "code",
   "execution_count": 10,
   "metadata": {},
   "outputs": [
    {
     "name": "stdout",
     "output_type": "stream",
     "text": [
      "0.8439069051978128\n"
     ]
    }
   ],
   "source": [
    "rho, _ = stats.pearsonr(filtered_df[exp_var], filtered_df[int_var])\n",
    "\n",
    "print(rho)"
   ]
  },
  {
   "cell_type": "markdown",
   "metadata": {},
   "source": [
    "It improved A __LOT!__ That's why you __always__ need to remove the outliers. Now, let's go to the next step."
   ]
  },
  {
   "cell_type": "markdown",
   "metadata": {},
   "source": [
    "# Step 3: Fitting the model\n",
    "\n",
    "Finally! That's where we are going to fit our model (duh). And it's the easiest part of the job. You just need to \"create\" small inputs. You already have the inputs, you just need to parse them to numpy arrays."
   ]
  },
  {
   "cell_type": "code",
   "execution_count": 11,
   "metadata": {},
   "outputs": [],
   "source": [
    "x = np.array(filtered_df[exp_var]).reshape(-1, 1)\n",
    "# You need to reshape x, or you are going to have problems in the fit function.\n",
    "y = np.array(filtered_df[int_var])"
   ]
  },
  {
   "cell_type": "markdown",
   "metadata": {},
   "source": [
    "Well, think a bit with me now. $y$ is a function of $x$, right?\n",
    "In a linear regression what we want is to obtain a set of values ($y$) from a given input ($x$). So we have a first degree polynomial, yes? It is something like $y = {A}_1 \\cdot x + {A}_2$ where ${A}_1$ is the __coefficient__ and ${A}_2$ is the __intercept__. In `numpy` an unidimensional set of values is represented like a vector, so you want to have an  ${A}_1$ that multiplied by your vector $x$ and added to ${A}_2$ results in a vector $y$. That's exactly what the fitting does, it finds a function that describes (or at least tries to) $y$ in function of $x$ and can return you ${A}_1$ and ${A}_2$. Let's fit!"
   ]
  },
  {
   "cell_type": "code",
   "execution_count": 12,
   "metadata": {},
   "outputs": [],
   "source": [
    "model = LinearRegression().fit(x, y)\n",
    "a1 = model.coef_\n",
    "a2 = model.intercept_"
   ]
  },
  {
   "cell_type": "markdown",
   "metadata": {},
   "source": [
    "Let's verify if our model works."
   ]
  },
  {
   "cell_type": "code",
   "execution_count": 13,
   "metadata": {},
   "outputs": [
    {
     "data": {
      "image/png": "[encoded data removed]",
      "text/plain": [
       "<Figure size 432x288 with 1 Axes>"
      ]
     },
     "metadata": {
      "needs_background": "light"
     },
     "output_type": "display_data"
    }
   ],
   "source": [
    "plt.title(\"Our data (scattered, blue) and linear regression model (line, orange)\")\n",
    "plt.scatter(filtered_df[exp_var], filtered_df[int_var], color=\"royalblue\")\n",
    "plt.plot(filtered_df[exp_var], a1 * filtered_df[exp_var] + a2, color=\"orange\")\n",
    "plt.xlabel(exp_var)\n",
    "plt.ylabel(int_var)\n",
    "plt.show()"
   ]
  },
  {
   "cell_type": "markdown",
   "metadata": {},
   "source": [
    "Well, the model describes the behaviour nicely, right? Let's do a few predictions."
   ]
  },
  {
   "cell_type": "markdown",
   "metadata": {},
   "source": [
    "# Step 4: Predicting\n",
    "\n",
    "The biggest advantage for linear regression models is that we can predict for every input in the set of real numbers, with a little of responsibility, right? (We won't predict for negative ages, for example)\n",
    "\n",
    "Let's try to predict the systolic blood pressure for a 22 years old person, we don't have this data."
   ]
  },
  {
   "cell_type": "code",
   "execution_count": 14,
   "metadata": {},
   "outputs": [
    {
     "name": "stdout",
     "output_type": "stream",
     "text": [
      "[117.96218009]\n"
     ]
    }
   ],
   "source": [
    "age = 22\n",
    "systolic_blood_pressure = age * a1 + a2\n",
    "\n",
    "print(systolic_blood_pressure)"
   ]
  },
  {
   "cell_type": "markdown",
   "metadata": {},
   "source": [
    "That's a pretty credible value, right?\n",
    "\n",
    "But we can do even more, we can simulate scenarios. Let's generate a set of ages."
   ]
  },
  {
   "cell_type": "code",
   "execution_count": 15,
   "metadata": {},
   "outputs": [],
   "source": [
    "sim_x = [ np.random.randint(18, 90) for i in range(100) ] # Generating 100 random ages from 18 to 90."
   ]
  },
  {
   "cell_type": "markdown",
   "metadata": {},
   "source": [
    "And let's generate the expected results for every age and add some chaos to it (adding some pseudo-random numbers)."
   ]
  },
  {
   "cell_type": "code",
   "execution_count": 16,
   "metadata": {},
   "outputs": [],
   "source": [
    "sim_y = [ np.random.randint(-180, 180) / 10 + a1 * sim_x[i] + a2 for i in range(100) ] # Generating some realistic results."
   ]
  },
  {
   "cell_type": "markdown",
   "metadata": {},
   "source": [
    "Let's visualize it, shall we?"
   ]
  },
  {
   "cell_type": "code",
   "execution_count": 17,
   "metadata": {},
   "outputs": [
    {
     "data": {
      "image/png": "[encoded data removed]",
      "text/plain": [
       "<Figure size 432x288 with 1 Axes>"
      ]
     },
     "metadata": {
      "needs_background": "light"
     },
     "output_type": "display_data"
    }
   ],
   "source": [
    "plt.title(\"Simulation of Systolic Blood Pressure by Age\")\n",
    "plt.scatter(sim_x, sim_y, color=\"orange\")\n",
    "plt.scatter(filtered_df[exp_var], filtered_df[int_var], color=\"royalblue\")\n",
    "plt.xlabel(exp_var)\n",
    "plt.ylabel(int_var)\n",
    "plt.show()"
   ]
  }
 ],
 "metadata": {
  "kernelspec": {
   "display_name": "Python 3",
   "language": "python",
   "name": "python3"
  },
  "language_info": {
   "codemirror_mode": {
    "name": "ipython",
    "version": 3
   },
   "file_extension": ".py",
   "mimetype": "text/x-python",
   "name": "python",
   "nbconvert_exporter": "python",
   "pygments_lexer": "ipython3",
   "version": "3.6.8"
  }
 },
 "nbformat": 4,
 "nbformat_minor": 2
}
